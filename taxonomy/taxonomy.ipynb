{
 "cells": [
  {
   "cell_type": "markdown",
   "metadata": {},
   "source": [
    "# PLAsTiCC v2 taxonomy\n",
    "\n",
    "_Alex Malz (GCCL@RUB)_ (add your name here)\n",
    "\n",
    "The purpose of this notebook is to outline a bitmask schema for hierarchical classes of LSST alerts.\n",
    "The bitmask corresponds to a \"best\" classification to be included in the alert.\n",
    "Each digit in the bitmask, however, corresponds to a vector of classification probabilities, confidence flags, or scores that can be used to subsample the alert stream.\n",
    "Persistent features could be queried for the subsampled objects from a separate database, which could be used for further selection."
   ]
  },
  {
   "cell_type": "code",
   "execution_count": 1,
   "metadata": {},
   "outputs": [],
   "source": [
    "from treelib import Node, Tree\n",
    "import string"
   ]
  },
  {
   "cell_type": "markdown",
   "metadata": {},
   "source": [
    "## Housekeeping\n",
    "\n",
    "We need to think about how to sort through the classification information.\n",
    "`directory` and `index` are very simplistic starting points.\n",
    "It'll be easier when we have a better idea of what subsampling operations we'll perform."
   ]
  },
  {
   "cell_type": "code",
   "execution_count": 2,
   "metadata": {},
   "outputs": [],
   "source": [
    "directory = {}\n",
    "index = {}"
   ]
  },
  {
   "cell_type": "markdown",
   "metadata": {},
   "source": [
    "### Generating the integer codes\n",
    "\n",
    "The idea is that every level of the tree corresponds to one digit in the bitmask.\n",
    "The number of objects in the"
   ]
  },
  {
   "cell_type": "code",
   "execution_count": 3,
   "metadata": {},
   "outputs": [],
   "source": [
    "### TODO Alex: Please reverse intger mask so no leading zeros\n",
    "### map real to 1 and bogus to 0 - doesn't need a 0 for alert digit\n",
    "\n",
    "digs = string.digits + string.ascii_letters\n",
    "\n",
    "def int2base(x, base):\n",
    "    if x < 0:\n",
    "        sign = -1\n",
    "    elif x == 0:\n",
    "        return digs[0]\n",
    "    else:\n",
    "        sign = 1\n",
    "\n",
    "    x *= sign\n",
    "    digits = []\n",
    "\n",
    "    while x:\n",
    "        digits.append(digs[int(x % base)])\n",
    "        x = int(x / base)\n",
    "\n",
    "    if sign < 0:\n",
    "        digits.append('-')\n",
    "\n",
    "    # digits.reverse()\n",
    "\n",
    "    return ''.join(digits)"
   ]
  },
  {
   "cell_type": "markdown",
   "metadata": {},
   "source": [
    "## Building a phylogenetic tree\n",
    "\n",
    "Given the hierarchical class relationships, make a tree diagram (and record some hopefully useful information)."
   ]
  },
  {
   "cell_type": "code",
   "execution_count": 4,
   "metadata": {},
   "outputs": [],
   "source": [
    "def branch(tree, parent, children, prepend=[\"Other\"], append=None, directory=directory, index=index):\n",
    "    directory[parent] = {}\n",
    "    if prepend is not None:\n",
    "        proc_pre = [parent + \"/\" + pre for pre in prepend]\n",
    "        children = proc_pre + children\n",
    "    if append is not None:\n",
    "        proc_app = [parent + \"/\" + appe for app in append]\n",
    "        children = children + proc_app\n",
    "    bigbase = len(children)\n",
    "    for i, child in enumerate(children):\n",
    "        directory[parent][child] = i\n",
    "        index[child] = index[parent] + int2base(i, bigbase)# + index[parent]\n",
    "        tree.create_node(index[child]+\" \"+child, child, parent=parent)\n",
    "    return(bigbase, directory, index)"
   ]
  },
  {
   "cell_type": "markdown",
   "metadata": {},
   "source": [
    "It would be better to start with something like `directory` than to build it as we go along, but, hey, this is a hack."
   ]
  },
  {
   "cell_type": "code",
   "execution_count": 5,
   "metadata": {},
   "outputs": [
    {
     "name": "stdout",
     "output_type": "stream",
     "text": [
      " Alert/Real/Static\n",
      "├── 0 Static/Other\n",
      "├── 1 Non-Recurring\n",
      "│   ├── 10 Non-Recurring/Other\n",
      "│   ├── 11 SN-like\n",
      "│   │   ├── 110 SN-like/Other\n",
      "│   │   ├── 111 Ia\n",
      "│   │   ├── 112 Ib/c\n",
      "│   │   ├── 113 II\n",
      "│   │   ├── 114 Iax\n",
      "│   │   └── 115 91bg\n",
      "│   ├── 12 Fast\n",
      "│   │   ├── 120 Fast/Other\n",
      "│   │   ├── 121 KN\n",
      "│   │   ├── 122 M-dwarf Flare\n",
      "│   │   ├── 123 Dwarf Novae\n",
      "│   │   └── 124 uLens\n",
      "│   └── 13 Long\n",
      "│       ├── 130 Long/Other\n",
      "│       ├── 131 SLSN\n",
      "│       ├── 132 TDE\n",
      "│       ├── 133 ILOT\n",
      "│       ├── 134 CART\n",
      "│       └── 135 PISN\n",
      "└── 2 Recurring\n",
      "    ├── 20 Recurring/Other\n",
      "    ├── 21 Periodic\n",
      "    │   ├── 210 Periodic/Other\n",
      "    │   ├── 211 Cepheid\n",
      "    │   ├── 212 RR Lyrae\n",
      "    │   ├── 213 Delta Scuti\n",
      "    │   ├── 214 EB\n",
      "    │   └── 215 LPV/Mira\n",
      "    └── 22 Non-Periodic\n",
      "        ├── 220 Non-Periodic/Other\n",
      "        └── 221 AGN\n",
      "\n"
     ]
    }
   ],
   "source": [
    "tree = Tree()\n",
    "\n",
    "# index[\"Alert\"] = ''#int2base(0, 1)\n",
    "# tree.create_node(index[\"Alert\"] + \" \" + \"Alert\", \"Alert\")\n",
    "\n",
    "# branch(tree, \"Alert\", [\"Bogus\", \"Real\"])#, prepend=[\"Unclassified\"])\n",
    "\n",
    "# index[\"Real\"] = ''#int2base(0, 1)\n",
    "# tree.create_node(index[\"Real\"] + \" \" + \"Alert/Real\", \"Real\")\n",
    "\n",
    "# branch(tree, \"Real\", [\"Static\", \"Moving\"])#, prepend=['Unclassified'])\n",
    "\n",
    "index[\"Static\"] = ''#int2base(0, 1)\n",
    "tree.create_node(index[\"Static\"] + \" \" + \"Alert/Real/Static\", \"Static\")\n",
    "\n",
    "branch(tree, \"Static\", [\"Non-Recurring\", \"Recurring\"])\n",
    "\n",
    "branch(tree, \"Recurring\", [\"Periodic\", \"Non-Periodic\"])\n",
    "\n",
    "branch(tree, \"Periodic\", [\"Cepheid\", \"RR Lyrae\", \"Delta Scuti\", \"EB\", \"LPV/Mira\"])\n",
    "\n",
    "branch(tree, \"Non-Periodic\", [\"AGN\"])\n",
    "\n",
    "branch(tree, \"Non-Recurring\", [\"SN-like\", \"Fast\", \"Long\"])\n",
    "\n",
    "branch(tree, \"SN-like\", [\"Ia\", \"Ib/c\", \"II\", \"Iax\", \"91bg\"])\n",
    "\n",
    "branch(tree, \"Fast\", [\"KN\", \"M-dwarf Flare\", \"Dwarf Novae\", \"uLens\"])\n",
    "\n",
    "branch(tree, \"Long\", [\"SLSN\", \"TDE\", \"ILOT\", \"CART\", \"PISN\"])\n",
    "\n",
    "tree.show()"
   ]
  },
  {
   "cell_type": "markdown",
   "metadata": {},
   "source": [
    "Yeah, not sure these are really useful. . ."
   ]
  },
  {
   "cell_type": "code",
   "execution_count": 6,
   "metadata": {},
   "outputs": [
    {
     "name": "stdout",
     "output_type": "stream",
     "text": [
      "{'Static': {'Static/Other': 0, 'Non-Recurring': 1, 'Recurring': 2}, 'Recurring': {'Recurring/Other': 0, 'Periodic': 1, 'Non-Periodic': 2}, 'Periodic': {'Periodic/Other': 0, 'Cepheid': 1, 'RR Lyrae': 2, 'Delta Scuti': 3, 'EB': 4, 'LPV/Mira': 5}, 'Non-Periodic': {'Non-Periodic/Other': 0, 'AGN': 1}, 'Non-Recurring': {'Non-Recurring/Other': 0, 'SN-like': 1, 'Fast': 2, 'Long': 3}, 'SN-like': {'SN-like/Other': 0, 'Ia': 1, 'Ib/c': 2, 'II': 3, 'Iax': 4, '91bg': 5}, 'Fast': {'Fast/Other': 0, 'KN': 1, 'M-dwarf Flare': 2, 'Dwarf Novae': 3, 'uLens': 4}, 'Long': {'Long/Other': 0, 'SLSN': 1, 'TDE': 2, 'ILOT': 3, 'CART': 4, 'PISN': 5}}\n"
     ]
    }
   ],
   "source": [
    "print(directory)"
   ]
  },
  {
   "cell_type": "code",
   "execution_count": 7,
   "metadata": {},
   "outputs": [
    {
     "name": "stdout",
     "output_type": "stream",
     "text": [
      "{'Static': '', 'Static/Other': '0', 'Non-Recurring': '1', 'Recurring': '2', 'Recurring/Other': '20', 'Periodic': '21', 'Non-Periodic': '22', 'Periodic/Other': '210', 'Cepheid': '211', 'RR Lyrae': '212', 'Delta Scuti': '213', 'EB': '214', 'LPV/Mira': '215', 'Non-Periodic/Other': '220', 'AGN': '221', 'Non-Recurring/Other': '10', 'SN-like': '11', 'Fast': '12', 'Long': '13', 'SN-like/Other': '110', 'Ia': '111', 'Ib/c': '112', 'II': '113', 'Iax': '114', '91bg': '115', 'Fast/Other': '120', 'KN': '121', 'M-dwarf Flare': '122', 'Dwarf Novae': '123', 'uLens': '124', 'Long/Other': '130', 'SLSN': '131', 'TDE': '132', 'ILOT': '133', 'CART': '134', 'PISN': '135'}\n"
     ]
    }
   ],
   "source": [
    "print(index)"
   ]
  },
  {
   "cell_type": "markdown",
   "metadata": {},
   "source": [
    "## Building a structure for hierarchical classification\n",
    "\n",
    "The whole point of this, for me, is for the classification to have corresponding posterior probabilities, or at least confidence flags or scores, because I'd want to use them to rapidly select follow-up candidates.\n",
    "[This](https://community.lsst.org/t/projects-involving-irregularly-shaped-data/4466) looks potentially relevant.\n",
    "I guess it could also be used for packaging up additional features into an alert without bloating it up too much."
   ]
  },
  {
   "cell_type": "code",
   "execution_count": null,
   "metadata": {},
   "outputs": [],
   "source": []
  }
 ],
 "metadata": {
  "kernelspec": {
   "display_name": "Python 3 (ipykernel)",
   "language": "python",
   "name": "python3"
  },
  "language_info": {
   "codemirror_mode": {
    "name": "ipython",
    "version": 3
   },
   "file_extension": ".py",
   "mimetype": "text/x-python",
   "name": "python",
   "nbconvert_exporter": "python",
   "pygments_lexer": "ipython3",
   "version": "3.9.12"
  }
 },
 "nbformat": 4,
 "nbformat_minor": 4
}
