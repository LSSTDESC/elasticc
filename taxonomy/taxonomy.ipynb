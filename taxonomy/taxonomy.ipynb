{
 "cells": [
  {
   "cell_type": "markdown",
   "metadata": {},
   "source": [
    "# PLAsTiCC v2 taxonomy\n",
    "\n",
    "_Alex Malz (GCCL@RUB)_ , _Rob Knop (raknop@lbl.gov)_\n",
    "\n",
    "The purpose of this notebook is to outline a \"bit\"mask (really, the deciaml equivalent) schema for hierarchical classes of LSST alerts.\n",
    "The bitmask corresponds to a \"best\" classification to be included in the alert.\n",
    "Each digit in the bitmask, however, corresponds to a vector of classification probabilities, confidence flags, or scores that can be used to subsample the alert stream.\n",
    "Persistent features could be queried for the subsampled objects from a separate database, which could be used for further selection."
   ]
  },
  {
   "cell_type": "code",
   "execution_count": 1,
   "metadata": {},
   "outputs": [],
   "source": [
    "from treelib import Node, Tree\n",
    "import string"
   ]
  },
  {
   "cell_type": "markdown",
   "metadata": {},
   "source": [
    "## Housekeeping\n",
    "\n",
    "We need to think about how to sort through the classification information.\n",
    "`directory` and `index` are very simplistic starting points.\n",
    "It'll be easier when we have a better idea of what subsampling operations we'll perform."
   ]
  },
  {
   "cell_type": "code",
   "execution_count": 2,
   "metadata": {},
   "outputs": [],
   "source": [
    "directory = {}\n",
    "index = {}"
   ]
  },
  {
   "cell_type": "markdown",
   "metadata": {},
   "source": [
    "### Generating the integer codes\n",
    "\n",
    "The idea is that every level of the tree corresponds to one digit in the bitmask.\n",
    "The number of objects in the"
   ]
  },
  {
   "cell_type": "code",
   "execution_count": 3,
   "metadata": {},
   "outputs": [],
   "source": [
    "### map real to 1 and bogus to 0 - doesn't need a 0 for alert digit\n",
    "\n",
    "digs = string.digits + string.ascii_letters\n",
    "\n",
    "def int2base(x, base):\n",
    "    # \n",
    "    if x < 0:\n",
    "        sign = -1\n",
    "    elif x == 0:\n",
    "        return digs[0]\n",
    "    else:\n",
    "        sign = 1\n",
    "\n",
    "    x *= sign\n",
    "    digits = []\n",
    "\n",
    "    while x:\n",
    "        digits.append(digs[int(x % base)])\n",
    "        x = int(x / base)\n",
    "\n",
    "    if sign < 0:\n",
    "        digits.append('-')\n",
    "\n",
    "    # digits.reverse()\n",
    "\n",
    "    return ''.join(digits)"
   ]
  },
  {
   "cell_type": "markdown",
   "metadata": {},
   "source": [
    "## Building a phylogenetic tree\n",
    "\n",
    "Given the hierarchical class relationships, make a tree diagram (and record some hopefully useful information)."
   ]
  },
  {
   "cell_type": "code",
   "execution_count": 4,
   "metadata": {},
   "outputs": [],
   "source": [
    "# def branch(tree, parent, children, prepend=[\"Other\"], append=None, directory=directory, index=index):\n",
    "#     level = 0\n",
    "#     tmp = parent\n",
    "#     while tree.ancestor(tmp) is not None:\n",
    "#         level += 1\n",
    "#         tmp = tree.ancestor(tmp)\n",
    "#     directory[parent] = {}\n",
    "#     if prepend is not None:\n",
    "#         proc_pre = [parent + \"/\" + pre for pre in prepend]\n",
    "#         children = proc_pre + children\n",
    "#     if append is not None:\n",
    "#         proc_app = [parent + \"/\" + appe for app in append]\n",
    "#         children = children + proc_app\n",
    "#     bigbase = len(children)\n",
    "#     for i, child in enumerate(children):\n",
    "#         directory[parent][child] = i\n",
    "#         index[child] = index[parent] + int2base(i, bigbase)# broken + index[parent]\n",
    "#         tree.create_node(index[child]+\" \"+child, child, parent=parent)\n",
    "#     print(f\"{parent} {level}\")\n",
    "# #     index[parent] = '0' + index[parent]\n",
    "#     return(bigbase, directory, index)"
   ]
  },
  {
   "cell_type": "code",
   "execution_count": 5,
   "metadata": {},
   "outputs": [],
   "source": [
    "maxdep = 2\n",
    "def branch(tree, parent, children, prepend=[\"Other\"], append=None, directory=directory, index=index):\n",
    "    if prepend is not None:\n",
    "        proc_pre = [parent + \"/\" + pre for pre in prepend]\n",
    "        children = proc_pre + children\n",
    "    if append is not None:\n",
    "        proc_app = [parent + \"/\" + appe for app in append]\n",
    "        children = children + proc_app\n",
    "    tmp = parent\n",
    "    level = 0\n",
    "    while tree.ancestor(tmp) is not None:\n",
    "        level += 1\n",
    "        tmp = tree.ancestor(tmp)\n",
    "    directory[parent] = {}\n",
    "    for i, child in enumerate( children ):\n",
    "        directory[parent][child] = i\n",
    "#         print(index[parent], type(index[parent]))\n",
    "        if index[parent] != '':\n",
    "            index[child] = str(int(index[parent]) + (i+1)* 10 ** (maxdep-level))\n",
    "        else:\n",
    "            index[child] = str((i+1)* 10 ** (maxdep-level))\n",
    "        tree.create_node(index[child]+\" \"+child, child, parent=parent)"
   ]
  },
  {
   "cell_type": "markdown",
   "metadata": {},
   "source": [
    "It would be better to start with something like `directory` than to build it as we go along, but, hey, this is a hack."
   ]
  },
  {
   "cell_type": "code",
   "execution_count": 6,
   "metadata": {},
   "outputs": [
    {
     "name": "stdout",
     "output_type": "stream",
     "text": [
      " Alert/Real/Static\n",
      "├── 0 Meta\n",
      "│   ├── 10 Meta/Other\n",
      "│   ├── 20 Residual\n",
      "│   └── 30 NotClassified\n",
      "├── 100 Static/Other\n",
      "├── 200 Non-Recurring\n",
      "│   ├── 210 Non-Recurring/Other\n",
      "│   ├── 220 SN-like\n",
      "│   │   ├── 221 SN-like/Other\n",
      "│   │   ├── 222 Ia\n",
      "│   │   ├── 223 Ib/c\n",
      "│   │   ├── 224 II\n",
      "│   │   ├── 225 Iax\n",
      "│   │   └── 226 91bg\n",
      "│   ├── 230 Fast\n",
      "│   │   ├── 231 Fast/Other\n",
      "│   │   ├── 232 KN\n",
      "│   │   ├── 233 M-dwarf Flare\n",
      "│   │   ├── 234 Dwarf Novae\n",
      "│   │   └── 235 uLens\n",
      "│   └── 240 Long\n",
      "│       ├── 241 Long/Other\n",
      "│       ├── 242 SLSN\n",
      "│       ├── 243 TDE\n",
      "│       ├── 244 ILOT\n",
      "│       ├── 245 CART\n",
      "│       └── 246 PISN\n",
      "└── 300 Recurring\n",
      "    ├── 310 Recurring/Other\n",
      "    ├── 320 Periodic\n",
      "    │   ├── 321 Periodic/Other\n",
      "    │   ├── 322 Cepheid\n",
      "    │   ├── 323 RR Lyrae\n",
      "    │   ├── 324 Delta Scuti\n",
      "    │   ├── 325 EB\n",
      "    │   └── 326 LPV/Mira\n",
      "    └── 330 Non-Periodic\n",
      "        ├── 331 Non-Periodic/Other\n",
      "        └── 332 AGN\n",
      "\n"
     ]
    }
   ],
   "source": [
    "tree = Tree()\n",
    "\n",
    "# index[\"Alert\"] = ''#int2base(0, 1)\n",
    "# tree.create_node(index[\"Alert\"] + \" \" + \"Alert\", \"Alert\")\n",
    "\n",
    "# branch(tree, \"Alert\", [\"Bogus\", \"Real\"])#, prepend=[\"Unclassified\"])\n",
    "\n",
    "# index[\"Real\"] = ''#int2base(0, 1)\n",
    "# tree.create_node(index[\"Real\"] + \" \" + \"Alert/Real\", \"Real\")\n",
    "\n",
    "# branch(tree, \"Real\", [\"Static\", \"Moving\"])#, prepend=['Unclassified'])\n",
    "\n",
    "index[\"Static\"] = ''#int2base(0, 1)\n",
    "tree.create_node(index[\"Static\"] + \" \" + \"Alert/Real/Static\", \"Static\")\n",
    "\n",
    "# need spot for residual, choose not to classify -- metacategory? possibly rename to \"Flagged\"?\n",
    "index[\"Meta\"] = \"0\"# * (maxdep+1)\n",
    "tree.create_node(index[\"Meta\"] + \" Meta\", \"Meta\", parent = \"Static\")\n",
    "branch(tree, \"Meta\", [\"Residual\", \"NotClassified\"])\n",
    "\n",
    "branch(tree, \"Static\", [\"Non-Recurring\", \"Recurring\"])\n",
    "\n",
    "branch(tree, \"Recurring\", [\"Periodic\", \"Non-Periodic\"])\n",
    "\n",
    "branch(tree, \"Periodic\", [\"Cepheid\", \"RR Lyrae\", \"Delta Scuti\", \"EB\", \"LPV/Mira\"])\n",
    "\n",
    "branch(tree, \"Non-Periodic\", [\"AGN\"])\n",
    "\n",
    "branch(tree, \"Non-Recurring\", [\"SN-like\", \"Fast\", \"Long\"])\n",
    "\n",
    "branch(tree, \"SN-like\", [\"Ia\", \"Ib/c\", \"II\", \"Iax\", \"91bg\"])\n",
    "\n",
    "branch(tree, \"Fast\", [\"KN\", \"M-dwarf Flare\", \"Dwarf Novae\", \"uLens\"])\n",
    "\n",
    "branch(tree, \"Long\", [\"SLSN\", \"TDE\", \"ILOT\", \"CART\", \"PISN\"])\n",
    "\n",
    "tree.show()"
   ]
  },
  {
   "cell_type": "markdown",
   "metadata": {},
   "source": [
    "Yeah, not sure these are really useful. . ."
   ]
  },
  {
   "cell_type": "code",
   "execution_count": 7,
   "metadata": {},
   "outputs": [
    {
     "name": "stdout",
     "output_type": "stream",
     "text": [
      "{'Meta': {'Meta/Other': 0, 'Residual': 1, 'NotClassified': 2}, 'Static': {'Static/Other': 0, 'Non-Recurring': 1, 'Recurring': 2}, 'Recurring': {'Recurring/Other': 0, 'Periodic': 1, 'Non-Periodic': 2}, 'Periodic': {'Periodic/Other': 0, 'Cepheid': 1, 'RR Lyrae': 2, 'Delta Scuti': 3, 'EB': 4, 'LPV/Mira': 5}, 'Non-Periodic': {'Non-Periodic/Other': 0, 'AGN': 1}, 'Non-Recurring': {'Non-Recurring/Other': 0, 'SN-like': 1, 'Fast': 2, 'Long': 3}, 'SN-like': {'SN-like/Other': 0, 'Ia': 1, 'Ib/c': 2, 'II': 3, 'Iax': 4, '91bg': 5}, 'Fast': {'Fast/Other': 0, 'KN': 1, 'M-dwarf Flare': 2, 'Dwarf Novae': 3, 'uLens': 4}, 'Long': {'Long/Other': 0, 'SLSN': 1, 'TDE': 2, 'ILOT': 3, 'CART': 4, 'PISN': 5}}\n"
     ]
    }
   ],
   "source": [
    "print(directory)"
   ]
  },
  {
   "cell_type": "code",
   "execution_count": 8,
   "metadata": {},
   "outputs": [
    {
     "name": "stdout",
     "output_type": "stream",
     "text": [
      "{'Static': '', 'Meta': '0', 'Meta/Other': '10', 'Residual': '20', 'NotClassified': '30', 'Static/Other': '100', 'Non-Recurring': '200', 'Recurring': '300', 'Recurring/Other': '310', 'Periodic': '320', 'Non-Periodic': '330', 'Periodic/Other': '321', 'Cepheid': '322', 'RR Lyrae': '323', 'Delta Scuti': '324', 'EB': '325', 'LPV/Mira': '326', 'Non-Periodic/Other': '331', 'AGN': '332', 'Non-Recurring/Other': '210', 'SN-like': '220', 'Fast': '230', 'Long': '240', 'SN-like/Other': '221', 'Ia': '222', 'Ib/c': '223', 'II': '224', 'Iax': '225', '91bg': '226', 'Fast/Other': '231', 'KN': '232', 'M-dwarf Flare': '233', 'Dwarf Novae': '234', 'uLens': '235', 'Long/Other': '241', 'SLSN': '242', 'TDE': '243', 'ILOT': '244', 'CART': '245', 'PISN': '246'}\n"
     ]
    }
   ],
   "source": [
    "print(index)"
   ]
  },
  {
   "cell_type": "markdown",
   "metadata": {},
   "source": [
    "## Building a structure for hierarchical classification\n",
    "\n",
    "The whole point of this, for me, is for the classification to have corresponding posterior probabilities, or at least confidence flags or scores, because I'd want to use them to rapidly select follow-up candidates.\n",
    "[This](https://community.lsst.org/t/projects-involving-irregularly-shaped-data/4466) looks potentially relevant.\n",
    "I guess it could also be used for packaging up additional features into an alert without bloating it up too much."
   ]
  },
  {
   "cell_type": "code",
   "execution_count": null,
   "metadata": {},
   "outputs": [],
   "source": []
  }
 ],
 "metadata": {
  "kernelspec": {
   "display_name": "rob_mess_conda",
   "language": "python",
   "name": "rob_mess_conda"
  },
  "language_info": {
   "codemirror_mode": {
    "name": "ipython",
    "version": 3
   },
   "file_extension": ".py",
   "mimetype": "text/x-python",
   "name": "python",
   "nbconvert_exporter": "python",
   "pygments_lexer": "ipython3",
   "version": "3.11.3"
  }
 },
 "nbformat": 4,
 "nbformat_minor": 4
}
